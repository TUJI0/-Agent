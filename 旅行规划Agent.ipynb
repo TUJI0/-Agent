{
 "cells": [
  {
   "cell_type": "code",
   "id": "initial_id",
   "metadata": {
    "collapsed": true,
    "ExecuteTime": {
     "end_time": "2025-10-15T09:05:49.036410Z",
     "start_time": "2025-10-15T09:05:49.028289Z"
    }
   },
   "source": [
    "from langchain_community.chat_models.tongyi import ChatTongyi\n",
    "from typing import TypedDict,Annotated\n",
    "from langgraph.graph.message import add_messages\n",
    "from langgraph.graph import StateGraph,START,END\n",
    "from langchain_core.prompts import ChatPromptTemplate\n",
    "from langchain_core.messages import ToolMessage\n",
    "\n",
    "from langchain.tools import tool\n",
    "\n",
    "llm = ChatTongyi(model=\"qwen-max\",api_key=\"sk-9a1c78d0414e49aeb778f97bf608fef0\")"
   ],
   "outputs": [],
   "execution_count": 288
  },
  {
   "metadata": {
    "ExecuteTime": {
     "end_time": "2025-10-15T09:05:49.065756Z",
     "start_time": "2025-10-15T09:05:49.043470Z"
    }
   },
   "cell_type": "code",
   "source": [
    "@tool()\n",
    "def search_flights(destination: str, date: str) -> dict:\n",
    "    \"\"\"查询指定日期飞往某地的航班信息。返回一个包含航班号和价格的字典，如果无航班则返回None。\"\"\"\n",
    "    print(f\"正在查询 {date} 前往 {destination} 的航班...\")\n",
    "    if destination == \"新加坡\":\n",
    "        return {\"flight_number\": \"SQ801\", \"price\": 3000, \"departure_time\": \"08:00\"}\n",
    "    return None\n",
    "@tool()\n",
    "def search_hotels(destination: str, check_in_date: str, check_out_date: str) -> list[dict]:\n",
    "    \"\"\"根据地点和日期查询酒店。返回酒店列表，如果无酒店则返回空列表。\"\"\"\n",
    "    print(f\"正在查询 {destination} 从 {check_in_date} 到 {check_out_date} 的酒店...\")\n",
    "    if destination == \"新加坡\" and check_in_date == \"2025-10-27\":\n",
    "        return [{\"name\": \"滨海湾金沙酒店\", \"price_per_night\": 2500}, {\"name\": \"莱佛士酒店\", \"price_per_night\": 3500}]\n",
    "    return []\n",
    "\n",
    "@tool()\n",
    "def book_flight_and_hotel(flight_number: str, hotel_name: str, guest_name: str) -> dict:\n",
    "    \"\"\"预订机票和酒店，这是一个事务性操作。\"\"\"\n",
    "    print(f\"正在为 {guest_name} 预订航班 {flight_number} 和酒店 {hotel_name}...\")\n",
    "    return {\"status\": \"success\", \"booking_id\": \"12345ABC\"}"
   ],
   "id": "4ad83208581d26bb",
   "outputs": [],
   "execution_count": 289
  },
  {
   "metadata": {
    "ExecuteTime": {
     "end_time": "2025-10-15T09:05:49.095802Z",
     "start_time": "2025-10-15T09:05:49.081777Z"
    }
   },
   "cell_type": "code",
   "source": [
    "class State(TypedDict):\n",
    "    messages: Annotated[list,add_messages]\n",
    "\n",
    "tools = [search_flights, search_hotels, book_flight_and_hotel]\n",
    "tool_map = {\"search_flights\":search_flights, \"search_hotels\":search_hotels,\"book_flight_and_hotel\":book_flight_and_hotel}\n",
    "tool_names = [\"search_flights\", \"search_hotels\", \"book_flight_and_hotel\"]\n",
    "llm_with_tools = llm.bind_tools(tools)\n",
    "\n",
    "history = []\n",
    "\n",
    "template = \"\"\"\n",
    "    你是一个旅行规划助手，能够将用户的模糊指令（例如：“帮我预订下周一去新加坡的机票和酒店，住两晚，我的名字是王伟”）拆解成一个有序的执行计划，并使用以下工具根据用户的旅行需求帮助用户进行操作：\n",
    "    1、search_flights：查询指定日期飞往某地的航班信息。\n",
    "    2、search_hotels：根据地点和日期查询酒店。返回酒店列表，如果无酒店则返回空列表。\n",
    "    3、book_flight_and_hotel：预订机票和酒店。\n",
    "\n",
    "    用户输入：{input}\n",
    "    历史对话记录：{history}\n",
    "    当完成用户的需求则返回相应的出结果，并结束对话。\n",
    "    \"\"\"\n",
    "\n",
    "prompt = ChatPromptTemplate.from_template(template)\n",
    "# 创建agent，用来调用工具和输出结果\n",
    "def agent(state: State):\n",
    "    question = state[\"messages\"][0]\n",
    "    last_message = state[\"messages\"][-1]\n",
    "    history.append(last_message)\n",
    "    chain = prompt|llm_with_tools\n",
    "    response = chain.invoke({\"input\": question, \"history\": history})\n",
    "    print(response.content)\n",
    "    return {\"messages\": [response]}"
   ],
   "id": "3aa20538e3c61df2",
   "outputs": [],
   "execution_count": 290
  },
  {
   "metadata": {
    "ExecuteTime": {
     "end_time": "2025-10-15T09:05:49.128353Z",
     "start_time": "2025-10-15T09:05:49.112837Z"
    }
   },
   "cell_type": "code",
   "source": [
    "def run_tool(state:State):\n",
    "    \"\"\"执行单个工具的调用\"\"\"\n",
    "     # 从状态字典中获取最后一条消息\n",
    "    last_message = state[\"messages\"][-1]\n",
    "    # print(last_message)\n",
    "    tool_call = getattr(last_message, \"tool_calls\")\n",
    "    # print(tool_call)\n",
    "    tool_name = tool_call[0][\"name\"]\n",
    "    # 从tool_map中获取对应的工具实例，若不存在则返回None\n",
    "    tool = tool_map.get(tool_name)\n",
    "\n",
    "    if not tool:\n",
    "        raise ValueError(f\"Tool {tool_name} not found\")\n",
    "    # 调用工具\n",
    "    response = tool.invoke(tool_call[0][\"args\"])\n",
    "    # 创建并返回ToolMessage对象，包含工具执行结果、调用ID和工具名称\n",
    "    # print(response)\n",
    "    if response == None:\n",
    "        result = ToolMessage(content=\"未查找到相应的航班\",tool_call_id=tool_call[0][\"id\"],name=tool_name)\n",
    "    elif response == []:\n",
    "        result = ToolMessage(content=\"未查找到相应的酒店\",tool_call_id=tool_call[0][\"id\"],name=tool_name)\n",
    "    else:\n",
    "        result = ToolMessage(content=str(response),tool_call_id=tool_call[0][\"id\"],name=tool_name)\n",
    "        # result = ToolMessage(content=str(response),tool_call_id=tool_call[0][\"id\"],name=tool_name)\n",
    "    return {\"messages\": result}"
   ],
   "id": "32495cbcb898e477",
   "outputs": [],
   "execution_count": 291
  },
  {
   "metadata": {
    "ExecuteTime": {
     "end_time": "2025-10-15T09:05:49.159400Z",
     "start_time": "2025-10-15T09:05:49.144877Z"
    }
   },
   "cell_type": "code",
   "source": [
    "from langgraph.prebuilt import tools_condition\n",
    "\n",
    "# 构建图\n",
    "graph_builder = StateGraph(state_schema=State)\n",
    "graph_builder.add_node(\"agent\",lambda state: agent(state))\n",
    "graph_builder.add_node(\"call_tools\",lambda state: run_tool(state))\n",
    "graph_builder.add_edge(START,\"agent\")\n",
    "graph_builder.add_conditional_edges(source=\"agent\",path=tools_condition, path_map={\"tools\": \"call_tools\", END: END})\n",
    "graph_builder.add_edge(\"call_tools\",\"agent\")\n",
    "graph = graph_builder.compile()"
   ],
   "id": "8ae4f336dd40937e",
   "outputs": [],
   "execution_count": 292
  },
  {
   "metadata": {
    "ExecuteTime": {
     "end_time": "2025-10-15T09:06:37.019923Z",
     "start_time": "2025-10-15T09:06:25.420456Z"
    }
   },
   "cell_type": "code",
   "source": [
    "# events = graph.stream({\"messages\": [{\"role\": \"user\", \"content\": \"查询2025-10-25到新加坡的航班\"}]})\n",
    "events = graph.stream({\"messages\": [{\"role\": \"user\", \"content\": \"帮王刚预定2025-10-25到新加坡的航班，以及2025-10-27日入住，2025-10-28退房的酒店\"}]})\n",
    "\n",
    "\n",
    "# 流式输出\n",
    "for event in events:\n",
    "    # 遍历事件中的值\n",
    "    for value in event.values():\n",
    "        # 检查是否有有效消息\n",
    "        if \"messages\" not in value or not isinstance(value[\"messages\"], list):\n",
    "            continue\n",
    "\n",
    "        # 获取最后一条消息\n",
    "        last_message = value[\"messages\"][-1]\n",
    "\n",
    "        # 检查消息是否包含工具调用\n",
    "        if hasattr(last_message, \"tool_calls\") and last_message.tool_calls:\n",
    "            # 遍历工具调用\n",
    "            for tool_call in last_message.tool_calls:\n",
    "                # 检查工具调用是否为字典且包含名称\n",
    "                if isinstance(tool_call, dict) and \"name\" in tool_call:\n",
    "                    print(f\"Calling tool: {tool_call['name']}\")\n",
    "            # 跳过本次循环\n",
    "            continue\n",
    "\n",
    "        # 检查消息是否有内容\n",
    "        if hasattr(last_message, \"content\"):\n",
    "            content = last_message.content\n",
    "\n",
    "            # 情况1：工具输出（动态检查工具名称）\n",
    "            if hasattr(last_message, \"name\") and last_message.name in tool_names:\n",
    "                tool_name = last_message.name\n",
    "                print(f\"Tool Output [{tool_name}]: {content}\")\n",
    "            # 情况2：大模型输出（非工具消息）\n",
    "            else:\n",
    "                print(f\"Assistant: {content}\")\n",
    "        else:\n",
    "            print(\"Assistant: 未获取到相关回复\")"
   ],
   "id": "cf96e43b185ff99b",
   "outputs": [
    {
     "name": "stdout",
     "output_type": "stream",
     "text": [
      "为了帮助王刚预定2025-10-25到新加坡的航班，我将首先查询该日期飞往新加坡的航班信息。\n",
      "Calling tool: search_flights\n",
      "正在查询 2025-10-25 前往 新加坡 的航班...\n",
      "\n",
      "Calling tool: search_hotels\n",
      "正在查询 新加坡 从 2025-10-27 到 2025-10-28 的酒店...\n",
      "\n",
      "Calling tool: book_flight_and_hotel\n",
      "正在为 王刚 预订航班 SQ801 和酒店 滨海湾金沙酒店...\n",
      "已经为王刚成功预订了2025年10月25日飞往新加坡的航班SQ801，以及在2025年10月27日至2025年10月28日期间入住滨海湾金沙酒店。预订ID为12345ABC。如果有其他需求或问题，请随时告知。\n",
      "Assistant: 已经为王刚成功预订了2025年10月25日飞往新加坡的航班SQ801，以及在2025年10月27日至2025年10月28日期间入住滨海湾金沙酒店。预订ID为12345ABC。如果有其他需求或问题，请随时告知。\n"
     ]
    }
   ],
   "execution_count": 294
  }
 ],
 "metadata": {
  "kernelspec": {
   "display_name": "Python 3",
   "language": "python",
   "name": "python3"
  },
  "language_info": {
   "codemirror_mode": {
    "name": "ipython",
    "version": 2
   },
   "file_extension": ".py",
   "mimetype": "text/x-python",
   "name": "python",
   "nbconvert_exporter": "python",
   "pygments_lexer": "ipython2",
   "version": "2.7.6"
  }
 },
 "nbformat": 4,
 "nbformat_minor": 5
}
